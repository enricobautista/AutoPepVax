{
 "cells": [
  {
   "cell_type": "raw",
   "metadata": {
    "collapsed": true,
    "jupyter": {
     "outputs_hidden": true
    }
   },
   "source": [
    "#run\n",
    "!pip install pandas\n",
    "!pip install splinter\n",
    "!pip install selenium\n",
    "!pip install mhcflurry\n",
    "!pip install tensorflow\n",
    "!mhcflurry-downloads fetch\n",
    "!pip install scikit-learn\n",
    "!pip install mhcgnomes"
   ]
  },
  {
   "cell_type": "code",
   "execution_count": null,
   "metadata": {},
   "outputs": [],
   "source": [
    "from PF import*\n",
    "#variables\n",
    "cancer_name = '' #change to name of cancer\n",
    "#chromedriver_path = r'C:\\Users\\enric\\chromedriver-win64\\chromedriver.exe'\n",
    "#chromedriver_path = '/opt/homebrew/bin/chromedriver'\n",
    "chromedriver_path = '' #change to chromedriver path, examples given above for Mac and Windows\n",
    "og_seq = '' #change to canonical protein sequence\n",
    "mutations = [] #place list of missense mutations here\n",
    "CD8_csv_filename = 'Data/'+cancer_name+'/'+cancer_name+' CD8 Epitopes.csv'\n",
    "CD8_filtered = 'Data/'+cancer_name+'/'+cancer_name+' CD8 Filtered Epitopes.csv'\n",
    "CD4_csv_filename = 'Data/'+cancer_name+'/'+cancer_name+' CD4 Epitopes.csv'\n",
    "CD4_filtered = 'Data/'+cancer_name+'/'+cancer_name+' CD4 Filtered Epitopes.csv'\n",
    "get_function_inputs = [cancer_name,chromedriver_path,og_seq,mutations,CD8_csv_filename,CD4_csv_filename]\n",
    "regression_model_file = 'Data/Model/Linear Regression Model.pkl'\n",
    "classification_model_file = 'Data/Model/Random Forest Classifier Model.pkl'\n",
    "folder_name = 'Data/'+cancer_name\n",
    "if os.path.exists('Data') is False:\n",
    "    os.makedirs('Data')\n",
    "if os.path.exists(folder_name) is False:\n",
    "    os.makedirs(folder_name)"
   ]
  },
  {
   "cell_type": "code",
   "execution_count": null,
   "metadata": {},
   "outputs": [],
   "source": [
    "get_NetMHCI(*get_function_inputs)"
   ]
  },
  {
   "cell_type": "code",
   "execution_count": null,
   "metadata": {},
   "outputs": [],
   "source": [
    "get_NetMHC_stab(*get_function_inputs)"
   ]
  },
  {
   "cell_type": "code",
   "execution_count": null,
   "metadata": {
    "tags": []
   },
   "outputs": [],
   "source": [
    "get_MHCFlurry(*get_function_inputs)"
   ]
  },
  {
   "cell_type": "code",
   "execution_count": null,
   "metadata": {},
   "outputs": [],
   "source": [
    "get_DeepImmuno(*get_function_inputs)"
   ]
  },
  {
   "cell_type": "code",
   "execution_count": null,
   "metadata": {},
   "outputs": [],
   "source": [
    "get_MHCI_IEDB_immunogenicity(*get_function_inputs)"
   ]
  },
  {
   "cell_type": "code",
   "execution_count": null,
   "metadata": {},
   "outputs": [],
   "source": [
    "get_antigenicity(*get_function_inputs, MHC=1)"
   ]
  },
  {
   "cell_type": "code",
   "execution_count": null,
   "metadata": {
    "scrolled": true
   },
   "outputs": [],
   "source": [
    "get_toxicity(*get_function_inputs, MHC=1)"
   ]
  },
  {
   "cell_type": "code",
   "execution_count": null,
   "metadata": {
    "scrolled": true
   },
   "outputs": [],
   "source": [
    "get_prot_parameters(*get_function_inputs, MHC=1)"
   ]
  },
  {
   "cell_type": "code",
   "execution_count": null,
   "metadata": {},
   "outputs": [],
   "source": [
    "get_hydropathicity(*get_function_inputs, MHC=1)"
   ]
  },
  {
   "cell_type": "code",
   "execution_count": null,
   "metadata": {},
   "outputs": [],
   "source": [
    "get_allergenicity(*get_function_inputs, MHC=1)"
   ]
  },
  {
   "cell_type": "code",
   "execution_count": null,
   "metadata": {
    "scrolled": true
   },
   "outputs": [],
   "source": [
    "rank_peptides(CD8_csv_filename,regression_model_file,classification_model_file)"
   ]
  },
  {
   "cell_type": "code",
   "execution_count": null,
   "metadata": {
    "scrolled": true
   },
   "outputs": [],
   "source": [
    "parameter_filter(*get_function_inputs, MHC=1, file_path=CD8_filtered, halflife=True, instability_index=True, toxicity=True, allergenicity=True, id=True)"
   ]
  },
  {
   "cell_type": "code",
   "execution_count": null,
   "metadata": {},
   "outputs": [],
   "source": [
    "get_NetMHCII(*get_function_inputs)"
   ]
  },
  {
   "cell_type": "code",
   "execution_count": null,
   "metadata": {},
   "outputs": [],
   "source": [
    "get_MHCII_IEDB_immunogenicity(*get_function_inputs)"
   ]
  },
  {
   "cell_type": "code",
   "execution_count": null,
   "metadata": {},
   "outputs": [],
   "source": [
    "get_antigenicity(*get_function_inputs, MHC=2)"
   ]
  },
  {
   "cell_type": "code",
   "execution_count": null,
   "metadata": {},
   "outputs": [],
   "source": [
    "get_toxicity(*get_function_inputs, MHC=2)"
   ]
  },
  {
   "cell_type": "code",
   "execution_count": null,
   "metadata": {
    "scrolled": true
   },
   "outputs": [],
   "source": [
    "get_prot_parameters(*get_function_inputs, MHC=2)"
   ]
  },
  {
   "cell_type": "code",
   "execution_count": null,
   "metadata": {},
   "outputs": [],
   "source": [
    "get_hydropathicity(*get_function_inputs, MHC=2)"
   ]
  },
  {
   "cell_type": "code",
   "execution_count": null,
   "metadata": {},
   "outputs": [],
   "source": [
    "get_allergenicity(*get_function_inputs, MHC=2)"
   ]
  },
  {
   "cell_type": "code",
   "execution_count": null,
   "metadata": {
    "scrolled": true
   },
   "outputs": [],
   "source": [
    "get_INFgamma(*get_function_inputs)"
   ]
  },
  {
   "cell_type": "code",
   "execution_count": null,
   "metadata": {},
   "outputs": [],
   "source": [
    "parameter_filter(*get_function_inputs, MHC=2, file_path=CD4_filtered, immunogenicity=True, antigenicity=True, halflife=True, instability_index=True, toxicity=True, allergenicity=True, inf_gamma=True, binding_affinity=True)"
   ]
  },
  {
   "cell_type": "raw",
   "metadata": {},
   "source": [
    "get_population_coverage(*get_function_inputs, MHC=1)\n",
    "get_population_coverage(*get_function_inputs, MHC=2)"
   ]
  }
 ],
 "metadata": {
  "kernelspec": {
   "display_name": "Python 3 (ipykernel)",
   "language": "python",
   "name": "python3"
  },
  "language_info": {
   "codemirror_mode": {
    "name": "ipython",
    "version": 3
   },
   "file_extension": ".py",
   "mimetype": "text/x-python",
   "name": "python",
   "nbconvert_exporter": "python",
   "pygments_lexer": "ipython3",
   "version": "3.10.10"
  }
 },
 "nbformat": 4,
 "nbformat_minor": 4
}
