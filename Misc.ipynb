{
 "cells": [
  {
   "cell_type": "code",
   "execution_count": null,
   "metadata": {},
   "outputs": [],
   "source": [
    "from PF import*\n",
    "from openpyxl import load_workbook"
   ]
  },
  {
   "cell_type": "code",
   "execution_count": null,
   "metadata": {},
   "outputs": [],
   "source": [
    "header = '>sp|P00533|EGFR_HUMAN Epidermal growth factor receptor OS=Homo sapiens OX=9606 GN=EGFR PE=1 SV=2'\n",
    "og_seq = 'MRPSGTAGAALLALLAALCPASRALEEKKVCQGTSNKLTQLGTFEDHFLSLQRMFNNCEVVLGNLEITYVQRNYDLSFLKTIQEVAGYVLIALNTVERIPLENLQIIRGNMYYENSYALAVLSNYDANKTGLKELPMRNLQEILHGAVRFSNNPALCNVESIQWRDIVSSDFLSNMSMDFQNHLGSCQKCDPSCPNGSCWGAGEENCQKLTKIICAQQCSGRCRGKSPSDCCHNQCAAGCTGPRESDCLVCRKFRDEATCKDTCPPLMLYNPTTYQMDVNPEGKYSFGATCVKKCPRNYVVTDHGSCVRACGADSYEMEEDGVRKCKKCEGPCRKVCNGIGIGEFKDSLSINATNIKHFKNCTSISGDLHILPVAFRGDSFTHTPPLDPQELDILKTVKEITGFLLIQAWPENRTDLHAFENLEIIRGRTKQHGQFSLAVVSLNITSLGLRSLKEISDGDVIISGNKNLCYANTINWKKLFGTSGQKTKIISNRGENSCKATGQVCHALCSPEGCWGPEPRDCVSCRNVSRGRECVDKCNLLEGEPREFVENSECIQCHPECLPQAMNITCTGRGPDNCIQCAHYIDGPHCVKTCPAGVMGENNTLVWKYADAGHVCHLCHPNCTYGCTGPGLEGCPTNGPKIPSIATGMVGALLLLLVVALGIGLFMRRRHIVRKRTLRRLLQERELVEPLTPSGEAPNQALLRILKETEFKKIKVLGSGAFGTVYKGLWIPEGEKVKIPVAIKELREATSPKANKEILDEAYVMASVDNPHVCRLLGICLTSTVQLITQLMPFGCLLDYVREHKDNIGSQYLLNWCVQIAKGMNYLEDRRLVHRDLAARNVLVKTPQHVKITDFGLAKLLGAEEKEYHAEGGKVPIKWMALESILHRIYTHQSDVWSYGVTVWELMTFGSKPYDGIPASEISSILEKGERLPQPPICTIDVYMIMVKCWMIDADSRPKFRELIIEFSKMARDPQRYLVIQGDERMHLPSPTDSNFYRALMDEEDMDDVVDADEYLIPQQGFFSSPSTSRTPLLSSLSATSNNSTVACIDRNGLQSCPIKEDSFLQRYSSDPTGALTEDSIDDTFLPVPEYINQSVPKRPAGSVQNPVYHNQPLNPAPSRDPHYQDPHSTAVGNPEYLNTVQPTCVNSTFDSPAHWAQKGSHQISLDNPDYQQDFFPKEAKPNGIFKGSTAENAEYLRVAPQSSEFIGA'"
   ]
  },
  {
   "cell_type": "code",
   "execution_count": null,
   "metadata": {},
   "outputs": [],
   "source": [
    "GBM_mis = ['L62R', 'R108K', 'R222C', 'A289D', 'A289T', 'A289V', 'G598V', 'V774M']\n",
    "HNSCC_mis = ['L038V', 'M178I', 'G203E', 'D191N', 'S229C', 'A289T', 'P373Q', 'A419P', 'I475V', 'G503S', 'R521K', 'G588S', 'F712L', 'E872G', 'E967A']\n",
    "CAC_mis = ['A16T', 'K28N', 'T39M', 'R98Q', 'P100H', 'G131R', 'L140V', 'V148M', 'R165Q', 'R222C', 'V292M', 'G305S', 'G339R', 'T354M', 'V398I', 'T415M', 'V441D', 'S442R', 'R451C', 'S464L', 'G465R', 'G465E', 'K467T', 'I491K', 'I491M', 'S492R', 'R527Q','R574W', 'A583T', 'G588S', 'P631S', 'P644L', 'R671C', 'L707S', 'E709K', 'T710A', 'E711V', 'F712S', 'G719S', 'S720P', 'G724S', 'P753L', 'N756S', 'S768G', 'M793I', 'F795S', 'V843I', 'G857R', 'G863V', 'A864V', 'R932C', 'R958H', 'D1009N', 'V1010M', 'S1045F', 'P1059L', 'Y1069C', 'V1105M', 'A1118V', 'V1147I', 'R1199M', 'S1204R']\n",
    "LAC_mis = ['G779F', 'G598V', 'L858R', 'L861Q', 'S768I', 'T790M', 'G719A', 'R521K', 'G719S', 'G719C', 'E709K']"
   ]
  },
  {
   "cell_type": "code",
   "execution_count": null,
   "metadata": {},
   "outputs": [],
   "source": [
    "mut_str = ''\n",
    "for mut in LAC_mis:\n",
    "    mut_str+=mut+', '\n",
    "print(mut_str)"
   ]
  },
  {
   "cell_type": "code",
   "execution_count": null,
   "metadata": {},
   "outputs": [],
   "source": [
    "clinical_epitopes = ['FVGEFFTDV', 'KTVNELQNL', 'EYYELFVNI', 'IYNEYIYDL', 'SYRNEIAYL', 'RYCNLEGPPI', 'CYTWNQMNL', 'YMDGTMSQV', 'IMDQVPFSV', 'LAGIGILTV', 'IISAVVGIL', 'KIFGSLAFL', 'IISAVVGIL', 'SAPDNRPAL', 'KIFGSLAFL', 'YLSGADLNL', 'YMFPNAPYL', 'FLGENISNFL', 'ALADGVQKV', 'ALFDGDPHL', 'SVFAGVVGV', 'LLYPTEITV', 'STAPPVHNV', 'SVASTITGV', 'YVDPVITSI', 'LAALPHSCL', 'LLGATCMFV', 'VLNLYLLGV', 'CYTWNQMNL', 'ALWAWPSEL', 'SLWAGVVVL', 'TMLARLASA', 'LTFGDVVAV', 'KIQEILTQV', 'NLDTLMTYV', 'GLWHHQTEV', 'AIIDGVESV', 'KVFAGIPTV', 'AMTQLLAGV', 'SLLMVVITQV', 'NSQPVWLCL', 'KLRQEVKQNL', 'KTVNELQNL', 'SYGVLLWEI', 'RFVPDGNRI', 'EYYELFVNI', 'IYNEYIYDL', 'RYCNLEGPPI', 'KTVNELQNL', 'YMMPVNSEV', 'KLATAQFKI', 'NYGIYKQDL', 'EYVYEFRDKL', 'RLMNDMTAV', 'KLMSSNSTDL', 'IYTWIEDHF', 'RYCNLEGPPI', 'EYYELFVNI', 'KVYLRVRPLL', 'SYGVLLWEIF', 'YGAAVQAAI', 'MVNELFDSL', 'KVYLRVRPLL', 'SYGVLLWEI', 'RFVPDGNRI', 'RMFPNAPYL', 'CYTWNQMNL', 'ALLEIASCL', 'EYYELFVNI', 'MVNELFDSL', 'LFDSLFPVI', 'SLQVTRIFL', 'LLQAEAPRL', 'KLKHYGPGWV', 'KLVERLGAA', 'DVWSFGILL', 'DLLSHAFFA', 'ASLDSDPWV', 'RLQEWCSVI', 'NVLHFFNAPL', 'DYSARWNEI', 'VYDYNCHVDL', 'HYTNASDGL', 'DYLRSVLEDF', 'RYLTQETNKV', 'LYCESVHNF', 'HYRKWIKDTI', 'DYVREHKDNI', 'WLEYYNLER', 'QIRPIFSNR', 'ILEQSGWWK', 'VIQNLERGYR', 'GIHKQKEKSR', 'GAAPLILSR', 'APAGRPSASR', 'KIREEYPDR', 'VYGIRLEHF', 'YLVPIQFPV', 'SLVLQPSVKV', 'GLMDLSTTPL', 'RFVPDGNRI', 'EIWTHSYKV', 'EIWTFSTKV']\n",
    "MHCI_alleles = ['HLA-A*01:01', 'HLA-A*01:01', 'HLA-A*02:01', 'HLA-A*02:01', 'HLA-A*02:03', 'HLA-A*02:03', 'HLA-A*02:06', 'HLA-A*02:06', 'HLA-A*03:01', 'HLA-A*03:01', 'HLA-A*11:01', 'HLA-A*11:01', 'HLA-A*23:01', 'HLA-A*23:01', 'HLA-A*24:02', 'HLA-A*24:02', 'HLA-A*26:01', 'HLA-A*26:01', 'HLA-A*30:01', 'HLA-A*30:01', 'HLA-A*30:02', 'HLA-A*30:02', 'HLA-A*31:01', 'HLA-A*31:01', 'HLA-A*32:01', 'HLA-A*32:01', 'HLA-A*33:01', 'HLA-A*33:01', 'HLA-A*68:01', 'HLA-A*68:01', 'HLA-A*68:02', 'HLA-A*68:02', 'HLA-B*07:02', 'HLA-B*07:02', 'HLA-B*08:01', 'HLA-B*08:01', 'HLA-B*15:01', 'HLA-B*15:01', 'HLA-B*35:01', 'HLA-B*35:01', 'HLA-B*40:01', 'HLA-B*40:01', 'HLA-B*44:02', 'HLA-B*44:02', 'HLA-B*44:03', 'HLA-B*44:03', 'HLA-B*51:01', 'HLA-B*51:01', 'HLA-B*53:01', 'HLA-B*53:01', 'HLA-B*57:01', 'HLA-B*57:01', 'HLA-B*58:01', 'HLA-B*58:01']"
   ]
  },
  {
   "cell_type": "raw",
   "metadata": {
    "jupyter": {
     "source_hidden": true
    },
    "scrolled": true
   },
   "source": [
    "cancer_peptides = to_peptide_list('Data/Clinical/Clinical Epitopes.csv')\n",
    "l = 50\n",
    "cancer_peptides = [cancer_peptides[i:i+l] for i in range(0, len(cancer_peptides), l)]\n",
    "for peptide_list in cancer_peptides:\n",
    "    delim = '%0A'\n",
    "    sequences = delim\n",
    "    alleles = ''\n",
    "    lengths = ''\n",
    "    for peptide in peptide_list:\n",
    "        sequences+=peptide.seq+delim\n",
    "        alleles+=peptide.allele+','\n",
    "        lengths+=str(len(peptide.seq))+','\n",
    "    sequences = sequences[:-len(delim)]\n",
    "    alleles = alleles[:-1]\n",
    "    lengths = lengths[:-1]\n",
    "    url = \"http://tools-cluster-interface.iedb.org/tools_api/mhci/\"\n",
    "    data = 'method=netmhcpan_ba&sequence_text='+sequences+'&allele='+alleles+'&length='+lengths\n",
    "    command = ['curl', '--data', data, url]\n",
    "    result = subprocess.run(command, capture_output=True, text=True)\n",
    "    result = str(result.stdout)\n",
    "    result = result.split('\\n')\n",
    "    result = [row.split('\\t') for row in result if 'HLA' in row]\n",
    "    length = len(result[0])\n",
    "    for row in result:\n",
    "        if len(row)==length:\n",
    "            seq=row[5]\n",
    "            allele=row[0]\n",
    "            for peptide in peptide_list:\n",
    "                if peptide.seq==seq and peptide.allele==allele:\n",
    "                    peptide.NetMHC_binding = float(row[-2])\n",
    "                    peptide.NetMHC_rank = float(row[-1])\n",
    "    time.sleep(2)\n",
    "    data = 'method=netmhcstabpan&sequence_text='+sequences+'&allele='+alleles+'&length='+lengths\n",
    "    command = ['curl', '--data', data, url]\n",
    "    result = subprocess.run(command, capture_output=True, text=True)\n",
    "    result = str(result.stdout)\n",
    "    result = result.split('\\n')\n",
    "    result = [row.split('\\t') for row in result if 'HLA' in row]\n",
    "    for row in result:\n",
    "        if len(row)==length:\n",
    "            seq=row[5]\n",
    "            allele=row[0]\n",
    "            for peptide in peptide_list:\n",
    "                if peptide.seq==seq and peptide.allele==allele:\n",
    "                    peptide.NetMHC_stab = float(row[-2])\n",
    "    time.sleep(2)\n",
    "cancer_peptides = [element for sublist in cancer_peptides for element in sublist]\n",
    "df = to_dataframe(cancer_peptides)\n",
    "df.to_csv('Data/Clinical/Clinical Epitopes.csv')\n",
    "cancer_name = 'Clinical'\n",
    "chromedriver_path = '/opt/homebrew/Caskroom/chromedriver/114.0.5735.90/chromedriver'\n",
    "og_seq = 'MRPSGTAGAALLALLAALCPASRALEEKKVCQGTSNKLTQLGTFEDHFLSLQRMFNNCEVVLGNLEITYVQRNYDLSFLKTIQEVAGYVLIALNTVERIPLENLQIIRGNMYYENSYALAVLSNYDANKTGLKELPMRNLQEILHGAVRFSNNPALCNVESIQWRDIVSSDFLSNMSMDFQNHLGSCQKCDPSCPNGSCWGAGEENCQKLTKIICAQQCSGRCRGKSPSDCCHNQCAAGCTGPRESDCLVCRKFRDEATCKDTCPPLMLYNPTTYQMDVNPEGKYSFGATCVKKCPRNYVVTDHGSCVRACGADSYEMEEDGVRKCKKCEGPCRKVCNGIGIGEFKDSLSINATNIKHFKNCTSISGDLHILPVAFRGDSFTHTPPLDPQELDILKTVKEITGFLLIQAWPENRTDLHAFENLEIIRGRTKQHGQFSLAVVSLNITSLGLRSLKEISDGDVIISGNKNLCYANTINWKKLFGTSGQKTKIISNRGENSCKATGQVCHALCSPEGCWGPEPRDCVSCRNVSRGRECVDKCNLLEGEPREFVENSECIQCHPECLPQAMNITCTGRGPDNCIQCAHYIDGPHCVKTCPAGVMGENNTLVWKYADAGHVCHLCHPNCTYGCTGPGLEGCPTNGPKIPSIATGMVGALLLLLVVALGIGLFMRRRHIVRKRTLRRLLQERELVEPLTPSGEAPNQALLRILKETEFKKIKVLGSGAFGTVYKGLWIPEGEKVKIPVAIKELREATSPKANKEILDEAYVMASVDNPHVCRLLGICLTSTVQLITQLMPFGCLLDYVREHKDNIGSQYLLNWCVQIAKGMNYLEDRRLVHRDLAARNVLVKTPQHVKITDFGLAKLLGAEEKEYHAEGGKVPIKWMALESILHRIYTHQSDVWSYGVTVWELMTFGSKPYDGIPASEISSILEKGERLPQPPICTIDVYMIMVKCWMIDADSRPKFRELIIEFSKMARDPQRYLVIQGDERMHLPSPTDSNFYRALMDEEDMDDVVDADEYLIPQQGFFSSPSTSRTPLLSSLSATSNNSTVACIDRNGLQSCPIKEDSFLQRYSSDPTGALTEDSIDDTFLPVPEYINQSVPKRPAGSVQNPVYHNQPLNPAPSRDPHYQDPHSTAVGNPEYLNTVQPTCVNSTFDSPAHWAQKGSHQISLDNPDYQQDFFPKEAKPNGIFKGSTAENAEYLRVAPQSSEFIGA'\n",
    "mutations = ['L62R', 'R108K', 'R222C', 'A289D', 'A289T', 'A289V', 'G598V', 'V774M']\n",
    "CD8_csv_filename = 'Data/Clinical/Clinical Epitopes.csv'\n",
    "CD4_csv_filename = 'Data/Clinical/Clinical Epitopes.csv'\n",
    "get_function_inputs = [cancer_name,chromedriver_path,og_seq,mutations,CD8_csv_filename,CD4_csv_filename]\n",
    "get_antigenicity(*get_function_inputs, MHC=1)"
   ]
  },
  {
   "cell_type": "code",
   "execution_count": null,
   "metadata": {},
   "outputs": [],
   "source": [
    "cancer_names = ['GBM','HNSCC','CAC','LAC']\n",
    "epi_tot = 0\n",
    "epi_filt_tot = 0\n",
    "for cancer_name in cancer_names:\n",
    "    print(cancer_name)\n",
    "    CD8_csv_filename = 'Data/'+cancer_name+'/'+cancer_name+' CD8 Epitopes.csv'\n",
    "    P8_csv_filename = 'Data/'+cancer_name+'/'+cancer_name+' CD8 Filtered Epitopes.csv'\n",
    "    df = pd.read_csv(CD8_csv_filename)\n",
    "    print(f'Total Epitopes: {len(df)}')\n",
    "    epi_tot+=len(df)\n",
    "    df = pd.read_csv(P8_csv_filename)\n",
    "    print(f'Filtered Epitopes: {len(df)}')\n",
    "    epi_filt_tot+=len(df)\n",
    "print(f'All Epitopes: {epi_tot}')\n",
    "print(f'Filtered Epitopes: {epi_filt_tot}')"
   ]
  },
  {
   "cell_type": "code",
   "execution_count": null,
   "metadata": {},
   "outputs": [],
   "source": [
    "cancer_names = ['GBM','HNSCC','CAC','LAC']\n",
    "epi_tot = 0\n",
    "epi_filt_tot = 0\n",
    "for cancer_name in cancer_names:\n",
    "    print(cancer_name)\n",
    "    CD8_csv_filename = 'Data/'+cancer_name+'/'+cancer_name+' CD4 Epitopes.csv'\n",
    "    P8_csv_filename = 'Data/'+cancer_name+'/'+cancer_name+' CD4 Filtered Epitopes.csv'\n",
    "    df = pd.read_csv(CD8_csv_filename)\n",
    "    print(f'Total Epitopes: {len(df)}')\n",
    "    epi_tot+=len(df)\n",
    "    df = pd.read_csv(P8_csv_filename)\n",
    "    print(f'Filtered Epitopes: {len(df)}')\n",
    "    epi_filt_tot+=len(df)\n",
    "print(f'All Epitopes: {epi_tot}')\n",
    "print(f'Filtered Epitopes: {epi_filt_tot}')"
   ]
  },
  {
   "cell_type": "code",
   "execution_count": null,
   "metadata": {},
   "outputs": [],
   "source": []
  }
 ],
 "metadata": {
  "kernelspec": {
   "display_name": "Python 3 (ipykernel)",
   "language": "python",
   "name": "python3"
  },
  "language_info": {
   "codemirror_mode": {
    "name": "ipython",
    "version": 3
   },
   "file_extension": ".py",
   "mimetype": "text/x-python",
   "name": "python",
   "nbconvert_exporter": "python",
   "pygments_lexer": "ipython3",
   "version": "3.10.10"
  }
 },
 "nbformat": 4,
 "nbformat_minor": 4
}
