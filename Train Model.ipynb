{
 "cells": [
  {
   "cell_type": "code",
   "execution_count": null,
   "id": "2cf2e14a-64dc-470d-b7aa-a5b501ea5cff",
   "metadata": {},
   "outputs": [],
   "source": [
    "from New_PF import*\n",
    "import matplotlib.pyplot as plt\n",
    "import pickle\n",
    "import numpy as np\n",
    "from sklearn.model_selection import KFold, cross_val_score\n",
    "from sklearn.model_selection import train_test_split\n",
    "from sklearn.linear_model import LinearRegression, LogisticRegression\n",
    "from sklearn.ensemble import RandomForestRegressor, RandomForestClassifier, GradientBoostingRegressor\n",
    "from sklearn.svm import SVC\n",
    "from sklearn.naive_bayes import GaussianNB\n",
    "from sklearn.neural_network import MLPClassifier\n",
    "from sklearn.metrics import accuracy_score, mean_squared_error, confusion_matrix, roc_auc_score, classification_report\n",
    "pd.set_option('display.expand_frame_repr', False)"
   ]
  },
  {
   "cell_type": "code",
   "execution_count": null,
   "id": "a5eb79f0-41b2-48a7-8ce6-7fea17d232e3",
   "metadata": {},
   "outputs": [],
   "source": [
    "filepath = 'Data/Model/Sampled Training Epitopes.csv'\n",
    "df = pd.read_csv(filepath)\n",
    "input_columns = [col for col in df.columns if col != 'ID']\n",
    "x = df[input_columns]\n",
    "x = x.drop(columns=['Unnamed: 0'], errors='ignore')\n",
    "y = df['ID']\n",
    "y = y.drop(columns=['Unnamed: 0'], errors='ignore')"
   ]
  },
  {
   "cell_type": "code",
   "execution_count": null,
   "id": "d871c058-5cdd-4914-b22c-33155786d26f",
   "metadata": {},
   "outputs": [],
   "source": [
    "regression_models = [LinearRegression(),LogisticRegression(),RandomForestRegressor(),GradientBoostingRegressor()]\n",
    "classification_models = [RandomForestClassifier(),SVC(),GaussianNB(),MLPClassifier(max_iter=1000)]"
   ]
  },
  {
   "cell_type": "code",
   "execution_count": null,
   "id": "5d6ea515-bc6c-4e1f-82ea-d374d4f4915a",
   "metadata": {},
   "outputs": [],
   "source": [
    "input_features_list = [['Immunogenicity','Alternative Immunogenicity','Antigenicity','Hydropathicity','MHCFlurry Rank','MHCFlurry WT:MUT Rank','NetMHC Rank','NetMHC Stability']]\n",
    "immunogenicity_input = ['Immunogenicity','Alternative Immunogenicity','Antigenicity']\n",
    "rank_input = ['MHCFlurry Rank','NetMHC Rank']\n",
    "for im_in in immunogenicity_input:\n",
    "    inputs = [im_in]\n",
    "    inputs.append('Hydropathicity')\n",
    "    inputs.append(rank_input[0])\n",
    "    in2 = inputs[:-1]\n",
    "    in2.append(rank_input[1])\n",
    "    inputs.extend(['MHCFlurry WT:MUT Rank','NetMHC Stability'])\n",
    "    in2.extend(['MHCFlurry WT:MUT Rank','NetMHC Stability'])\n",
    "    input_features_list.append(inputs)\n",
    "    input_features_list.append(in2)\n",
    "for ra_in in rank_input:\n",
    "    inputs = [ra_in]\n",
    "    inputs.extend(['MHCFlurry WT:MUT Rank','NetMHC Stability'])\n",
    "    input_features_list.append(inputs)"
   ]
  },
  {
   "cell_type": "code",
   "execution_count": null,
   "id": "cc519f59-0b0d-46be-8b4b-7c0b2747b942",
   "metadata": {},
   "outputs": [],
   "source": [
    "df_rows = []\n",
    "for model in regression_models:\n",
    "    for input_features in input_features_list:\n",
    "        #print(input_features)\n",
    "        kf = KFold(n_splits=5, shuffle=True, random_state=42)\n",
    "        scores = cross_val_score(model, x[input_features], y, cv=kf, scoring='roc_auc')\n",
    "        df_rows.append([str(input_features),str(model)[:-2],scores.mean()])\n",
    "df = pd.DataFrame(df_rows,columns=['Input Features','Model','AUC of ROC'])\n",
    "df = df.sort_values('AUC of ROC',ascending=False)\n",
    "df = df.reset_index(drop=True)\n",
    "df = df.drop(columns=['Unnamed: 0'], errors='ignore')\n",
    "print(df)\n",
    "df.to_csv('Data/Model/Regression Model Performance.csv')"
   ]
  },
  {
   "cell_type": "code",
   "execution_count": null,
   "id": "decc2b05-8b67-4b07-96f4-c8211bc196c3",
   "metadata": {},
   "outputs": [],
   "source": [
    "#Precision/PPV: tp/(tp+fp), portion of the identified positve that are actual positives\n",
    "#Accuracy: t/(t+f)\n",
    "#Recall/TPR: tp/(tp+fn), portion of the actual positives that are identified\n",
    "df_rows = []\n",
    "for model in classification_models:\n",
    "    for input_features in input_features_list:\n",
    "        #print(input_features)\n",
    "        kf = KFold(n_splits=5, shuffle=True, random_state=42)\n",
    "        precisions = cross_val_score(model, x[input_features], y, cv=kf, scoring='precision')\n",
    "        accuracies = cross_val_score(model, x[input_features], y, cv=kf, scoring='accuracy')\n",
    "        recalls = cross_val_score(model, x[input_features], y, cv=kf, scoring='recall')\n",
    "        df_rows.append([str(input_features),str(model),precisions.mean(),accuracies.mean(),recalls.mean()])\n",
    "df = pd.DataFrame(df_rows,columns=['Input Features','Model','PPV','Accuracy','TPR'])\n",
    "df = df.sort_values('Accuracy',ascending=False)\n",
    "df = df.reset_index(drop=True)\n",
    "df = df.drop(columns=['Unnamed: 0'], errors='ignore')\n",
    "print(df)\n",
    "df.to_csv('Data/Model/Classification Model Performance.csv')"
   ]
  },
  {
   "cell_type": "code",
   "execution_count": null,
   "id": "2dabdb91-0f2d-4e89-9068-5b083dccce72",
   "metadata": {},
   "outputs": [],
   "source": [
    "#Random Forest Classifier\n",
    "def RFC(x, y, show_features=False):\n",
    "    print('Random Forest Classifier')\n",
    "    model = RandomForestClassifier()\n",
    "    model.fit(x, y)\n",
    "    with open('Data/Model/Random Forest Classifier Model.pkl', 'wb') as file:\n",
    "        pickle.dump(model, file)\n",
    "    if show_features==True:\n",
    "        feature_names = model.feature_names_in_\n",
    "        importances = model.feature_importances_\n",
    "        feature_importances = pd.DataFrame({'Feature': feature_names, 'Importance': importances})\n",
    "        feature_importances = feature_importances.sort_values(by='Importance', ascending=False)\n",
    "        print(feature_importances)\n",
    "        plt.figure(figsize=(8, 6))\n",
    "        plt.bar(feature_importances['Feature'], feature_importances['Importance'])\n",
    "        plt.xlabel('Feature')\n",
    "        plt.ylabel('Importance')\n",
    "        plt.title('Feature Importances')\n",
    "        plt.xticks(rotation=-45)\n",
    "        plt.show()"
   ]
  },
  {
   "cell_type": "code",
   "execution_count": null,
   "id": "6e4ed00e-8dd4-4d2e-a79e-b70c92f43f3d",
   "metadata": {},
   "outputs": [],
   "source": [
    "#Linear Regression\n",
    "def LinReg(x, y):\n",
    "    print('Linear Regression')\n",
    "    model = LinearRegression()\n",
    "    model.fit(x, y)\n",
    "    with open('Data/Model/Linear Regression Model.pkl', 'wb') as file:\n",
    "        pickle.dump(model, file)"
   ]
  },
  {
   "cell_type": "code",
   "execution_count": null,
   "id": "f0b3fced-009d-4ce3-9b9d-ba4d310015d2",
   "metadata": {},
   "outputs": [],
   "source": [
    "#Logistic Regression\n",
    "def LogReg(x, y):\n",
    "    print('Logistic Regression')\n",
    "    model = LogisticRegression()\n",
    "    model.fit(x, y)\n",
    "    with open('Data/Model/Logistic Regression Model.pkl', 'wb') as file:\n",
    "        pickle.dump(model, file)"
   ]
  },
  {
   "cell_type": "code",
   "execution_count": null,
   "id": "79728187-1e1e-4fc6-89a3-caf49af555be",
   "metadata": {},
   "outputs": [],
   "source": [
    "LinReg(x[['MHCFlurry Rank', 'MHCFlurry WT:MUT Rank', 'NetMHC Stability']],y)\n",
    "LogReg(x[['MHCFlurry Rank', 'MHCFlurry WT:MUT Rank', 'NetMHC Stability']],y)\n",
    "RFC(x[['Antigenicity', 'Hydropathicity', 'MHCFlurry Rank', 'MHCFlurry WT:MUT Rank', 'NetMHC Stability']], y, show_features=True)"
   ]
  },
  {
   "cell_type": "code",
   "execution_count": null,
   "id": "1470982c-5dee-4d09-9d54-bb3af4a6095b",
   "metadata": {},
   "outputs": [],
   "source": [
    "csv_filename = 'Data/Clinical/Clinical Epitopes.csv'\n",
    "P8_csv_filename = 'Data/Clinical/Clinical Cancer Peptides.csv'\n",
    "regression_model_file = 'Data/Model/Linear Regression Model.pkl'\n",
    "df = pd.read_csv('Data/Model/Sampled Training Epitopes.csv')\n",
    "input_columns = [col for col in df.columns if col != 'ID']\n",
    "x = df[input_columns]\n",
    "x = x.drop(columns=['Unnamed: 0'], errors='ignore')\n",
    "y = df['ID']\n",
    "y = y.drop(columns=['Unnamed: 0'], errors='ignore')\n",
    "df_rows = []\n",
    "for input_features in input_features_list:\n",
    "    for model in classification_models:\n",
    "        model.fit(x[input_features], y)\n",
    "        classification_model_file = 'Data/Model/'+str(model)+'.pkl'\n",
    "        with open(classification_model_file, 'wb') as file:\n",
    "            pickle.dump(model, file)\n",
    "        rank_peptides(csv_filename,regression_model_file,classification_model_file)\n",
    "        df = pd.read_csv(csv_filename)\n",
    "        df = df[df['ID']==1]\n",
    "        df = df.reset_index(drop=True)\n",
    "        df = df.drop(columns=['Unnamed: 0'], errors='ignore')\n",
    "        df.to_csv(P8_csv_filename)\n",
    "        unique_seq = []\n",
    "        cancer_peptides = to_peptide_list(P8_csv_filename)\n",
    "        os.remove(classification_model_file)\n",
    "        for peptide in cancer_peptides:\n",
    "            if peptide.seq not in unique_seq:\n",
    "                unique_seq.append(peptide.seq)\n",
    "        clinical_epitopes = ['FVGEFFTDV', 'KTVNELQNL', 'EYYELFVNI', 'IYNEYIYDL', 'SYRNEIAYL', 'RYCNLEGPPI', 'CYTWNQMNL', 'YMDGTMSQV', 'IMDQVPFSV', 'LAGIGILTV', 'IISAVVGIL', 'KIFGSLAFL', 'IISAVVGIL', 'SAPDNRPAL', 'KIFGSLAFL', 'YLSGADLNL', 'YMFPNAPYL', 'FLGENISNFL', 'ALADGVQKV', 'ALFDGDPHL', 'SVFAGVVGV', 'LLYPTEITV', 'STAPPVHNV', 'SVASTITGV', 'YVDPVITSI', 'LAALPHSCL', 'LLGATCMFV', 'VLNLYLLGV', 'CYTWNQMNL', 'ALWAWPSEL', 'SLWAGVVVL', 'TMLARLASA', 'LTFGDVVAV', 'KIQEILTQV', 'NLDTLMTYV', 'GLWHHQTEV', 'AIIDGVESV', 'KVFAGIPTV', 'AMTQLLAGV', 'SLLMVVITQV', 'NSQPVWLCL', 'KLRQEVKQNL', 'KTVNELQNL', 'SYGVLLWEI', 'RFVPDGNRI', 'EYYELFVNI', 'IYNEYIYDL', 'RYCNLEGPPI', 'KTVNELQNL', 'YMMPVNSEV', 'KLATAQFKI', 'NYGIYKQDL', 'EYVYEFRDKL', 'RLMNDMTAV', 'KLMSSNSTDL', 'IYTWIEDHF', 'RYCNLEGPPI', 'EYYELFVNI', 'KVYLRVRPLL', 'SYGVLLWEIF', 'YGAAVQAAI', 'MVNELFDSL', 'KVYLRVRPLL', 'SYGVLLWEI', 'RFVPDGNRI', 'RMFPNAPYL', 'CYTWNQMNL', 'ALLEIASCL', 'EYYELFVNI', 'MVNELFDSL', 'LFDSLFPVI', 'SLQVTRIFL', 'LLQAEAPRL', 'KLKHYGPGWV', 'KLVERLGAA', 'DVWSFGILL', 'DLLSHAFFA', 'ASLDSDPWV', 'RLQEWCSVI', 'NVLHFFNAPL', 'DYSARWNEI', 'VYDYNCHVDL', 'HYTNASDGL', 'DYLRSVLEDF', 'RYLTQETNKV', 'LYCESVHNF', 'HYRKWIKDTI', 'DYVREHKDNI', 'WLEYYNLER', 'QIRPIFSNR', 'ILEQSGWWK', 'VIQNLERGYR', 'GIHKQKEKSR', 'GAAPLILSR', 'APAGRPSASR', 'KIREEYPDR', 'VYGIRLEHF', 'YLVPIQFPV', 'SLVLQPSVKV', 'GLMDLSTTPL', 'RFVPDGNRI', 'EIWTHSYKV', 'EIWTFSTKV']\n",
    "        fn_list = [seq for seq in clinical_epitopes if seq not in unique_seq]\n",
    "        df_rows.append([str(model),input_features,1-len(fn_list)/len(clinical_epitopes),len(clinical_epitopes)-len(fn_list),len(clinical_epitopes)])\n",
    "df = pd.DataFrame(df_rows, columns = ['Model','Input Features', 'TPR', 'TP', 'Total Epitopes'])\n",
    "df = df.sort_values('TP',ascending=False)\n",
    "df = df.reset_index(drop=True)\n",
    "df = df.drop(columns=['Unnamed: 0'], errors='ignore')\n",
    "df.to_csv('Data/Model/Model Validation with Clinical Epitopes.csv')"
   ]
  }
 ],
 "metadata": {
  "kernelspec": {
   "display_name": "Python 3 (ipykernel)",
   "language": "python",
   "name": "python3"
  },
  "language_info": {
   "codemirror_mode": {
    "name": "ipython",
    "version": 3
   },
   "file_extension": ".py",
   "mimetype": "text/x-python",
   "name": "python",
   "nbconvert_exporter": "python",
   "pygments_lexer": "ipython3",
   "version": "3.10.10"
  }
 },
 "nbformat": 4,
 "nbformat_minor": 5
}
